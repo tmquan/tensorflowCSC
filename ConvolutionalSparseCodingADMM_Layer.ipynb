{
 "cells": [
  {
   "cell_type": "code",
   "execution_count": 1,
   "metadata": {
    "collapsed": true
   },
   "outputs": [],
   "source": [
    "import tensorflow as tf\n",
    "import numpy as np\n",
    "import seaborn as sns\n",
    "import os \n",
    "import cv2 # For reading the image\n",
    "import skimage.io \n",
    "import matplotlib.pylab    as plt\n",
    "plt.rcParams['image.cmap'] = 'gray'\n",
    "%matplotlib inline  \n",
    "# This will display the image inside the notebook"
   ]
  },
  {
   "cell_type": "code",
   "execution_count": 3,
   "metadata": {
    "collapsed": true
   },
   "outputs": [],
   "source": [
    "from natsort import natsorted\n",
    "from sklearn import preprocessing # For whitening\n",
    "os.environ[\"CUDA_VISIBLE_DEVICES\"]=\"0\""
   ]
  },
  {
   "cell_type": "code",
   "execution_count": 5,
   "metadata": {
    "collapsed": true
   },
   "outputs": [],
   "source": [
    "# Size of the images\n",
    "rows = 512\n",
    "cols = 512"
   ]
  },
  {
   "cell_type": "code",
   "execution_count": 7,
   "metadata": {
    "collapsed": false
   },
   "outputs": [
    {
     "name": "stdout",
     "output_type": "stream",
     "text": [
      "./Std/barbara.grey.png\n",
      "./Std/bridge.grey.png\n",
      "./Std/kiel.grey.png\n",
      "./Std/lena.grey.png\n",
      "./Std/mandrill.png\n",
      "./Std/peppers.png\n",
      "(6, 512, 512)\n"
     ]
    }
   ],
   "source": [
    "# Read the images in Std folder and make npy data\n",
    "# Read the image directory, construct a tensor and save to npy array\n",
    "imageDir = './Std/'\n",
    "images = []\n",
    "for dirname, subdirList, fileList in os.walk(imageDir):\n",
    "    # Sort the jpg file numerically\n",
    "    fileList = natsorted(fileList)\n",
    "    for f in fileList:\n",
    "        if f.endswith('png'):\n",
    "            filename = os.path.join(dirname, f)\n",
    "            # Print the image file name and read by using opencv\n",
    "            #print f\n",
    "            print filename\n",
    "            image = cv2.imread(filename, cv2.IMREAD_GRAYSCALE)\n",
    "                \n",
    "            # Append to the images list\n",
    "            images.append(image)\n",
    "# Conver image no numpy array\n",
    "images = np.array(images)\n",
    "print images.shape\n",
    "# Reshape the image to \n",
    "images = np.reshape(images, (-1, rows, cols))\n",
    "\n",
    "# Save the images to numpy array\n",
    "np.save('std.npy', images)\n",
    "\n",
    "# Save the image to tif file\n",
    "skimage.io.imsave('std.tif', images)"
   ]
  },
  {
   "cell_type": "code",
   "execution_count": 9,
   "metadata": {
    "collapsed": true
   },
   "outputs": [],
   "source": [
    "# Implementation of Convolutional Sparse Coding Layer\n",
    "class ConvSparseCodingLayer:\n",
    "    # Building a single layer of Convolutional Sparse Coding Layer\n",
    "    def __init__(self):\n",
    "        # initialize the parameters\n",
    "        self.Lambda   = 0.1\n",
    "        self.Rho      = 0.001\n",
    "        self.Sigma    = 0.001\n",
    "        self.Jxp      = 10\n",
    "        self.mu_x     = 0.01\n",
    "        self.tau_x    = 2\n",
    "        self.Jdp      = 10\n",
    "        self.mu_d     = 0.01\n",
    "        self.tau_d    = 2\n",
    "        self.alpha_x  = 1.8\n",
    "        self.alpha_d  = 1.8\n",
    "        self.Jmax     = 100\n",
    "        self.eps_abs  = 1e-6\n",
    "        self.eps_rel  = 1e-6\n",
    "        \n",
    "        # initialize the component size\n",
    "        self.elemSize = [  1,   1, 512, 512]\n",
    "        self.dataSize = [  6,   1, 512, 512]\n",
    "        self.dictSize = [  1,  64,  11,  11]\n",
    "        self.zpadSize = [  1,  64, 512, 512]\n",
    "        self.blobSize = [  1,  64, 512, 512]\n",
    "        \n",
    "        # initialize the component of the graph\n",
    "        # Placeholder to hold the input\n",
    "        \n",
    "        # Main variables\n",
    "        self.D0 = tf.Variable(tf.zeros(shape=self.dictSize), dtype=tf.complex64)\n",
    "        self.Di = tf.Variable(tf.zeros(shape=self.zpadSize), dtype=tf.complex64)\n",
    "        self.Df = tf.Variable(tf.zeros(shape=self.zpadSize), dtype=tf.complex64)\n",
    "        self.Xi = tf.Variable(tf.zeros(shape=self.blobSize), dtype=tf.complex64)\n",
    "        self.Xf = tf.Variable(tf.zeros(shape=self.blobSize), dtype=tf.complex64)\n",
    "        \n",
    "        # Splitting variables\n",
    "        self.Gi = tf.Variable(tf.zeros(shape=self.zpadSize), dtype=tf.complex64)\n",
    "        self.Gf = tf.Variable(tf.zeros(shape=self.zpadSize), dtype=tf.complex64)\n",
    "        self.Yi = tf.Variable(tf.zeros(shape=self.blobSize), dtype=tf.complex64)\n",
    "        self.Yf = tf.Variable(tf.zeros(shape=self.blobSize), dtype=tf.complex64)\n",
    "        \n",
    "        # Dual variables\n",
    "        self.Hi = tf.Variable(tf.zeros(shape=self.zpadSize), dtype=tf.complex64)\n",
    "        self.Hf = tf.Variable(tf.zeros(shape=self.zpadSize), dtype=tf.complex64)\n",
    "        self.Ui = tf.Variable(tf.zeros(shape=self.blobSize), dtype=tf.complex64)\n",
    "        self.Uf = tf.Variable(tf.zeros(shape=self.blobSize), dtype=tf.complex64)\n",
    "        \n",
    "        pass\n",
    "    def setParams(params):\n",
    "        # Todo\n",
    "        pass\n",
    "    def cfft(tensor):\n",
    "        # Perform custom forward Fourier transform from the source placeholder in complex64\n",
    "        pass\n",
    "    def cift(tensor):\n",
    "        # Perform custom inverse Fourier transform from the source placeholder in complex64\n",
    "        pass\n",
    "    def bndcrop(tensor, newshape):\n",
    "        pass\n",
    "    def zeropad(tensor, newshape):\n",
    "        pass\n",
    "    def Pzmn(tensor):\n",
    "        # Zero mean\n",
    "        pass\n",
    "    def Pnmr(tensor):\n",
    "        # Normalization\n",
    "        pass\n",
    "    def loss(self):\n",
    "        pass\n",
    "    \n",
    "    ##################################################################################\n",
    "    def testFourierTransform():\n",
    "        pass\n",
    "    def testBoundaryCrop():\n",
    "        pass\n",
    "    def testZeroPadding():\n",
    "        pass"
   ]
  }
 ],
 "metadata": {
  "kernelspec": {
   "display_name": "Python 2",
   "language": "python",
   "name": "python2"
  },
  "language_info": {
   "codemirror_mode": {
    "name": "ipython",
    "version": 2
   },
   "file_extension": ".py",
   "mimetype": "text/x-python",
   "name": "python",
   "nbconvert_exporter": "python",
   "pygments_lexer": "ipython2",
   "version": "2.7.12"
  }
 },
 "nbformat": 4,
 "nbformat_minor": 1
}
