{
 "cells": [
  {
   "cell_type": "code",
   "execution_count": 1,
   "metadata": {
    "collapsed": true
   },
   "outputs": [],
   "source": [
    "import tensorflow as tf\n",
    "import numpy as np\n",
    "import seaborn as sns\n",
    "import os \n",
    "import cv2 # For reading the image\n",
    "import skimage.io \n",
    "import matplotlib.pylab    as plt\n",
    "plt.rcParams['image.cmap'] = 'gray'\n",
    "%matplotlib inline  \n",
    "# This will display the image inside the notebook"
   ]
  },
  {
   "cell_type": "code",
   "execution_count": 2,
   "metadata": {
    "collapsed": true
   },
   "outputs": [],
   "source": [
    "from natsort import natsorted\n",
    "from sklearn import preprocessing # For whitening\n",
    "os.environ[\"CUDA_VISIBLE_DEVICES\"]=\"0\""
   ]
  },
  {
   "cell_type": "code",
   "execution_count": 3,
   "metadata": {
    "collapsed": true
   },
   "outputs": [],
   "source": [
    "# Size of the images\n",
    "rows = 512\n",
    "cols = 512"
   ]
  },
  {
   "cell_type": "code",
   "execution_count": 4,
   "metadata": {
    "collapsed": false
   },
   "outputs": [
    {
     "name": "stdout",
     "output_type": "stream",
     "text": [
      "./Std/barbara.grey.png\n",
      "./Std/bridge.grey.png\n",
      "./Std/kiel.grey.png\n",
      "./Std/lena.grey.png\n",
      "./Std/mandrill.png\n",
      "./Std/peppers.png\n",
      "(6, 512, 512)\n"
     ]
    }
   ],
   "source": [
    "# Read the images in Std folder and make npy data\n",
    "# Read the image directory, construct a tensor and save to npy array\n",
    "imageDir = './Std/'\n",
    "images = []\n",
    "for dirname, subdirList, fileList in os.walk(imageDir):\n",
    "    # Sort the jpg file numerically\n",
    "    fileList = natsorted(fileList)\n",
    "    for f in fileList:\n",
    "        if f.endswith('png'):\n",
    "            filename = os.path.join(dirname, f)\n",
    "            # Print the image file name and read by using opencv\n",
    "            #print f\n",
    "            print filename\n",
    "            image = cv2.imread(filename, cv2.IMREAD_GRAYSCALE)\n",
    "                \n",
    "            # Append to the images list\n",
    "            images.append(image)\n",
    "# Conver image no numpy array\n",
    "images = np.array(images)\n",
    "print images.shape\n",
    "# Reshape the image to \n",
    "images = np.reshape(images, (-1, rows, cols))\n",
    "\n",
    "# Save the images to numpy array\n",
    "np.save('std.npy', images)\n",
    "\n",
    "# Save the image to tif file\n",
    "skimage.io.imsave('std.tif', images)"
   ]
  },
  {
   "cell_type": "code",
   "execution_count": 18,
   "metadata": {
    "collapsed": false
   },
   "outputs": [],
   "source": [
    "#\n",
    "S = images\n",
    "S_processed = S.astype(np.float32)\n",
    "StandardScaler = preprocessing.StandardScaler()\n",
    "#print StandardScaler\n",
    "for i in range(6):\n",
    "    S_processed[i,...] = StandardScaler.fit_transform(np.squeeze(S[i,...]))\n",
    "    pass"
   ]
  },
  {
   "cell_type": "code",
   "execution_count": 34,
   "metadata": {
    "collapsed": false
   },
   "outputs": [
    {
     "name": "stdout",
     "output_type": "stream",
     "text": [
      "(6, 1, 512, 512)\n"
     ]
    }
   ],
   "source": [
    "elemSize = [  1,   1, 512, 512]\n",
    "dataSize = [  6,   1, 512, 512]\n",
    "dictSize = [  1,  16,  11,  11]\n",
    "zpadSize = [  1,  16, 512, 512]\n",
    "blobSize = [  1,  16, 512, 512]\n",
    "\n",
    "S_processed = np.reshape(S_processed, dataSize)\n",
    "print S_processed.shape"
   ]
  },
  {
   "cell_type": "code",
   "execution_count": 38,
   "metadata": {
    "collapsed": false
   },
   "outputs": [
    {
     "ename": "InvalidArgumentError",
     "evalue": "You must feed a value for placeholder tensor 'Placeholder_60' with dtype complex64\n\t [[Node: Placeholder_60 = Placeholder[dtype=DT_COMPLEX64, shape=[], _device=\"/job:localhost/replica:0/task:0/gpu:0\"]()]]\n\nCaused by op u'Placeholder_60', defined at:\n  File \"/usr/lib/python2.7/runpy.py\", line 174, in _run_module_as_main\n    \"__main__\", fname, loader, pkg_name)\n  File \"/usr/lib/python2.7/runpy.py\", line 72, in _run_code\n    exec code in run_globals\n  File \"/usr/local/lib/python2.7/dist-packages/ipykernel/__main__.py\", line 3, in <module>\n    app.launch_new_instance()\n  File \"/usr/local/lib/python2.7/dist-packages/traitlets/config/application.py\", line 658, in launch_instance\n    app.start()\n  File \"/usr/local/lib/python2.7/dist-packages/ipykernel/kernelapp.py\", line 474, in start\n    ioloop.IOLoop.instance().start()\n  File \"/usr/lib/python2.7/dist-packages/zmq/eventloop/ioloop.py\", line 162, in start\n    super(ZMQIOLoop, self).start()\n  File \"/usr/local/lib/python2.7/dist-packages/tornado/ioloop.py\", line 887, in start\n    handler_func(fd_obj, events)\n  File \"/usr/local/lib/python2.7/dist-packages/tornado/stack_context.py\", line 275, in null_wrapper\n    return fn(*args, **kwargs)\n  File \"/usr/lib/python2.7/dist-packages/zmq/eventloop/zmqstream.py\", line 440, in _handle_events\n    self._handle_recv()\n  File \"/usr/lib/python2.7/dist-packages/zmq/eventloop/zmqstream.py\", line 472, in _handle_recv\n    self._run_callback(callback, msg)\n  File \"/usr/lib/python2.7/dist-packages/zmq/eventloop/zmqstream.py\", line 414, in _run_callback\n    callback(*args, **kwargs)\n  File \"/usr/local/lib/python2.7/dist-packages/tornado/stack_context.py\", line 275, in null_wrapper\n    return fn(*args, **kwargs)\n  File \"/usr/local/lib/python2.7/dist-packages/ipykernel/kernelbase.py\", line 276, in dispatcher\n    return self.dispatch_shell(stream, msg)\n  File \"/usr/local/lib/python2.7/dist-packages/ipykernel/kernelbase.py\", line 228, in dispatch_shell\n    handler(stream, idents, msg)\n  File \"/usr/local/lib/python2.7/dist-packages/ipykernel/kernelbase.py\", line 390, in execute_request\n    user_expressions, allow_stdin)\n  File \"/usr/local/lib/python2.7/dist-packages/ipykernel/ipkernel.py\", line 196, in do_execute\n    res = shell.run_cell(code, store_history=store_history, silent=silent)\n  File \"/usr/local/lib/python2.7/dist-packages/ipykernel/zmqshell.py\", line 501, in run_cell\n    return super(ZMQInteractiveShell, self).run_cell(*args, **kwargs)\n  File \"/usr/local/lib/python2.7/dist-packages/IPython/core/interactiveshell.py\", line 2717, in run_cell\n    interactivity=interactivity, compiler=compiler, result=result)\n  File \"/usr/local/lib/python2.7/dist-packages/IPython/core/interactiveshell.py\", line 2827, in run_ast_nodes\n    if self.run_code(code, result):\n  File \"/usr/local/lib/python2.7/dist-packages/IPython/core/interactiveshell.py\", line 2881, in run_code\n    exec(code_obj, self.user_global_ns, self.user_ns)\n  File \"<ipython-input-38-efdb25e8afc6>\", line 127, in <module>\n    layer.testFourierTransform()\n  File \"<ipython-input-38-efdb25e8afc6>\", line 104, in testFourierTransform\n    data = tf.placeholder(tf.complex64)\n  File \"/usr/local/lib/python2.7/dist-packages/tensorflow/python/ops/array_ops.py\", line 1512, in placeholder\n    name=name)\n  File \"/usr/local/lib/python2.7/dist-packages/tensorflow/python/ops/gen_array_ops.py\", line 2043, in _placeholder\n    name=name)\n  File \"/usr/local/lib/python2.7/dist-packages/tensorflow/python/framework/op_def_library.py\", line 759, in apply_op\n    op_def=op_def)\n  File \"/usr/local/lib/python2.7/dist-packages/tensorflow/python/framework/ops.py\", line 2240, in create_op\n    original_op=self._default_original_op, op_def=op_def)\n  File \"/usr/local/lib/python2.7/dist-packages/tensorflow/python/framework/ops.py\", line 1128, in __init__\n    self._traceback = _extract_stack()\n\nInvalidArgumentError (see above for traceback): You must feed a value for placeholder tensor 'Placeholder_60' with dtype complex64\n\t [[Node: Placeholder_60 = Placeholder[dtype=DT_COMPLEX64, shape=[], _device=\"/job:localhost/replica:0/task:0/gpu:0\"]()]]\n",
     "output_type": "error",
     "traceback": [
      "\u001b[0;31m---------------------------------------------------------------------------\u001b[0m",
      "\u001b[0;31mInvalidArgumentError\u001b[0m                      Traceback (most recent call last)",
      "\u001b[0;32m<ipython-input-38-efdb25e8afc6>\u001b[0m in \u001b[0;36m<module>\u001b[0;34m()\u001b[0m\n\u001b[1;32m    125\u001b[0m \u001b[0;31m# Construction\u001b[0m\u001b[0;34m\u001b[0m\u001b[0;34m\u001b[0m\u001b[0m\n\u001b[1;32m    126\u001b[0m \u001b[0mlayer\u001b[0m \u001b[0;34m=\u001b[0m \u001b[0mConvSparseCodingLayer\u001b[0m\u001b[0;34m(\u001b[0m\u001b[0m_\u001b[0m\u001b[0;34m,\u001b[0m \u001b[0mS_processed\u001b[0m\u001b[0;34m)\u001b[0m\u001b[0;34m\u001b[0m\u001b[0m\n\u001b[0;32m--> 127\u001b[0;31m \u001b[0mlayer\u001b[0m\u001b[0;34m.\u001b[0m\u001b[0mtestFourierTransform\u001b[0m\u001b[0;34m(\u001b[0m\u001b[0;34m)\u001b[0m\u001b[0;34m\u001b[0m\u001b[0m\n\u001b[0m",
      "\u001b[0;32m<ipython-input-38-efdb25e8afc6>\u001b[0m in \u001b[0;36mtestFourierTransform\u001b[0;34m(self)\u001b[0m\n\u001b[1;32m    106\u001b[0m             \u001b[0mtensor\u001b[0m \u001b[0;34m=\u001b[0m \u001b[0mtf\u001b[0m\u001b[0;34m.\u001b[0m\u001b[0mconvert_to_tensor\u001b[0m\u001b[0;34m(\u001b[0m\u001b[0mS_processed\u001b[0m\u001b[0;34m)\u001b[0m\u001b[0;34m\u001b[0m\u001b[0m\n\u001b[1;32m    107\u001b[0m             \u001b[0msource\u001b[0m \u001b[0;34m=\u001b[0m \u001b[0msess\u001b[0m\u001b[0;34m.\u001b[0m\u001b[0mrun\u001b[0m\u001b[0;34m(\u001b[0m\u001b[0mtensor\u001b[0m\u001b[0;34m)\u001b[0m\u001b[0;34m\u001b[0m\u001b[0m\n\u001b[0;32m--> 108\u001b[0;31m             \u001b[0mresult\u001b[0m \u001b[0;34m=\u001b[0m \u001b[0msess\u001b[0m\u001b[0;34m.\u001b[0m\u001b[0mrun\u001b[0m\u001b[0;34m(\u001b[0m\u001b[0mfreq\u001b[0m\u001b[0;34m)\u001b[0m\u001b[0;34m\u001b[0m\u001b[0m\n\u001b[0m\u001b[1;32m    109\u001b[0m \u001b[0;34m\u001b[0m\u001b[0m\n\u001b[1;32m    110\u001b[0m         \u001b[0mampl\u001b[0m \u001b[0;34m=\u001b[0m \u001b[0mnp\u001b[0m\u001b[0;34m.\u001b[0m\u001b[0mlog\u001b[0m\u001b[0;34m(\u001b[0m\u001b[0mnp\u001b[0m\u001b[0;34m.\u001b[0m\u001b[0mabs\u001b[0m\u001b[0;34m(\u001b[0m\u001b[0mresult\u001b[0m\u001b[0;34m)\u001b[0m\u001b[0;34m)\u001b[0m\u001b[0;34m\u001b[0m\u001b[0m\n",
      "\u001b[0;32m/usr/local/lib/python2.7/dist-packages/tensorflow/python/client/session.pyc\u001b[0m in \u001b[0;36mrun\u001b[0;34m(self, fetches, feed_dict, options, run_metadata)\u001b[0m\n\u001b[1;32m    764\u001b[0m     \u001b[0;32mtry\u001b[0m\u001b[0;34m:\u001b[0m\u001b[0;34m\u001b[0m\u001b[0m\n\u001b[1;32m    765\u001b[0m       result = self._run(None, fetches, feed_dict, options_ptr,\n\u001b[0;32m--> 766\u001b[0;31m                          run_metadata_ptr)\n\u001b[0m\u001b[1;32m    767\u001b[0m       \u001b[0;32mif\u001b[0m \u001b[0mrun_metadata\u001b[0m\u001b[0;34m:\u001b[0m\u001b[0;34m\u001b[0m\u001b[0m\n\u001b[1;32m    768\u001b[0m         \u001b[0mproto_data\u001b[0m \u001b[0;34m=\u001b[0m \u001b[0mtf_session\u001b[0m\u001b[0;34m.\u001b[0m\u001b[0mTF_GetBuffer\u001b[0m\u001b[0;34m(\u001b[0m\u001b[0mrun_metadata_ptr\u001b[0m\u001b[0;34m)\u001b[0m\u001b[0;34m\u001b[0m\u001b[0m\n",
      "\u001b[0;32m/usr/local/lib/python2.7/dist-packages/tensorflow/python/client/session.pyc\u001b[0m in \u001b[0;36m_run\u001b[0;34m(self, handle, fetches, feed_dict, options, run_metadata)\u001b[0m\n\u001b[1;32m    962\u001b[0m     \u001b[0;32mif\u001b[0m \u001b[0mfinal_fetches\u001b[0m \u001b[0;32mor\u001b[0m \u001b[0mfinal_targets\u001b[0m\u001b[0;34m:\u001b[0m\u001b[0;34m\u001b[0m\u001b[0m\n\u001b[1;32m    963\u001b[0m       results = self._do_run(handle, final_targets, final_fetches,\n\u001b[0;32m--> 964\u001b[0;31m                              feed_dict_string, options, run_metadata)\n\u001b[0m\u001b[1;32m    965\u001b[0m     \u001b[0;32melse\u001b[0m\u001b[0;34m:\u001b[0m\u001b[0;34m\u001b[0m\u001b[0m\n\u001b[1;32m    966\u001b[0m       \u001b[0mresults\u001b[0m \u001b[0;34m=\u001b[0m \u001b[0;34m[\u001b[0m\u001b[0;34m]\u001b[0m\u001b[0;34m\u001b[0m\u001b[0m\n",
      "\u001b[0;32m/usr/local/lib/python2.7/dist-packages/tensorflow/python/client/session.pyc\u001b[0m in \u001b[0;36m_do_run\u001b[0;34m(self, handle, target_list, fetch_list, feed_dict, options, run_metadata)\u001b[0m\n\u001b[1;32m   1012\u001b[0m     \u001b[0;32mif\u001b[0m \u001b[0mhandle\u001b[0m \u001b[0;32mis\u001b[0m \u001b[0mNone\u001b[0m\u001b[0;34m:\u001b[0m\u001b[0;34m\u001b[0m\u001b[0m\n\u001b[1;32m   1013\u001b[0m       return self._do_call(_run_fn, self._session, feed_dict, fetch_list,\n\u001b[0;32m-> 1014\u001b[0;31m                            target_list, options, run_metadata)\n\u001b[0m\u001b[1;32m   1015\u001b[0m     \u001b[0;32melse\u001b[0m\u001b[0;34m:\u001b[0m\u001b[0;34m\u001b[0m\u001b[0m\n\u001b[1;32m   1016\u001b[0m       return self._do_call(_prun_fn, self._session, handle, feed_dict,\n",
      "\u001b[0;32m/usr/local/lib/python2.7/dist-packages/tensorflow/python/client/session.pyc\u001b[0m in \u001b[0;36m_do_call\u001b[0;34m(self, fn, *args)\u001b[0m\n\u001b[1;32m   1032\u001b[0m         \u001b[0;32mexcept\u001b[0m \u001b[0mKeyError\u001b[0m\u001b[0;34m:\u001b[0m\u001b[0;34m\u001b[0m\u001b[0m\n\u001b[1;32m   1033\u001b[0m           \u001b[0;32mpass\u001b[0m\u001b[0;34m\u001b[0m\u001b[0m\n\u001b[0;32m-> 1034\u001b[0;31m       \u001b[0;32mraise\u001b[0m \u001b[0mtype\u001b[0m\u001b[0;34m(\u001b[0m\u001b[0me\u001b[0m\u001b[0;34m)\u001b[0m\u001b[0;34m(\u001b[0m\u001b[0mnode_def\u001b[0m\u001b[0;34m,\u001b[0m \u001b[0mop\u001b[0m\u001b[0;34m,\u001b[0m \u001b[0mmessage\u001b[0m\u001b[0;34m)\u001b[0m\u001b[0;34m\u001b[0m\u001b[0m\n\u001b[0m\u001b[1;32m   1035\u001b[0m \u001b[0;34m\u001b[0m\u001b[0m\n\u001b[1;32m   1036\u001b[0m   \u001b[0;32mdef\u001b[0m \u001b[0m_extend_graph\u001b[0m\u001b[0;34m(\u001b[0m\u001b[0mself\u001b[0m\u001b[0;34m)\u001b[0m\u001b[0;34m:\u001b[0m\u001b[0;34m\u001b[0m\u001b[0m\n",
      "\u001b[0;31mInvalidArgumentError\u001b[0m: You must feed a value for placeholder tensor 'Placeholder_60' with dtype complex64\n\t [[Node: Placeholder_60 = Placeholder[dtype=DT_COMPLEX64, shape=[], _device=\"/job:localhost/replica:0/task:0/gpu:0\"]()]]\n\nCaused by op u'Placeholder_60', defined at:\n  File \"/usr/lib/python2.7/runpy.py\", line 174, in _run_module_as_main\n    \"__main__\", fname, loader, pkg_name)\n  File \"/usr/lib/python2.7/runpy.py\", line 72, in _run_code\n    exec code in run_globals\n  File \"/usr/local/lib/python2.7/dist-packages/ipykernel/__main__.py\", line 3, in <module>\n    app.launch_new_instance()\n  File \"/usr/local/lib/python2.7/dist-packages/traitlets/config/application.py\", line 658, in launch_instance\n    app.start()\n  File \"/usr/local/lib/python2.7/dist-packages/ipykernel/kernelapp.py\", line 474, in start\n    ioloop.IOLoop.instance().start()\n  File \"/usr/lib/python2.7/dist-packages/zmq/eventloop/ioloop.py\", line 162, in start\n    super(ZMQIOLoop, self).start()\n  File \"/usr/local/lib/python2.7/dist-packages/tornado/ioloop.py\", line 887, in start\n    handler_func(fd_obj, events)\n  File \"/usr/local/lib/python2.7/dist-packages/tornado/stack_context.py\", line 275, in null_wrapper\n    return fn(*args, **kwargs)\n  File \"/usr/lib/python2.7/dist-packages/zmq/eventloop/zmqstream.py\", line 440, in _handle_events\n    self._handle_recv()\n  File \"/usr/lib/python2.7/dist-packages/zmq/eventloop/zmqstream.py\", line 472, in _handle_recv\n    self._run_callback(callback, msg)\n  File \"/usr/lib/python2.7/dist-packages/zmq/eventloop/zmqstream.py\", line 414, in _run_callback\n    callback(*args, **kwargs)\n  File \"/usr/local/lib/python2.7/dist-packages/tornado/stack_context.py\", line 275, in null_wrapper\n    return fn(*args, **kwargs)\n  File \"/usr/local/lib/python2.7/dist-packages/ipykernel/kernelbase.py\", line 276, in dispatcher\n    return self.dispatch_shell(stream, msg)\n  File \"/usr/local/lib/python2.7/dist-packages/ipykernel/kernelbase.py\", line 228, in dispatch_shell\n    handler(stream, idents, msg)\n  File \"/usr/local/lib/python2.7/dist-packages/ipykernel/kernelbase.py\", line 390, in execute_request\n    user_expressions, allow_stdin)\n  File \"/usr/local/lib/python2.7/dist-packages/ipykernel/ipkernel.py\", line 196, in do_execute\n    res = shell.run_cell(code, store_history=store_history, silent=silent)\n  File \"/usr/local/lib/python2.7/dist-packages/ipykernel/zmqshell.py\", line 501, in run_cell\n    return super(ZMQInteractiveShell, self).run_cell(*args, **kwargs)\n  File \"/usr/local/lib/python2.7/dist-packages/IPython/core/interactiveshell.py\", line 2717, in run_cell\n    interactivity=interactivity, compiler=compiler, result=result)\n  File \"/usr/local/lib/python2.7/dist-packages/IPython/core/interactiveshell.py\", line 2827, in run_ast_nodes\n    if self.run_code(code, result):\n  File \"/usr/local/lib/python2.7/dist-packages/IPython/core/interactiveshell.py\", line 2881, in run_code\n    exec(code_obj, self.user_global_ns, self.user_ns)\n  File \"<ipython-input-38-efdb25e8afc6>\", line 127, in <module>\n    layer.testFourierTransform()\n  File \"<ipython-input-38-efdb25e8afc6>\", line 104, in testFourierTransform\n    data = tf.placeholder(tf.complex64)\n  File \"/usr/local/lib/python2.7/dist-packages/tensorflow/python/ops/array_ops.py\", line 1512, in placeholder\n    name=name)\n  File \"/usr/local/lib/python2.7/dist-packages/tensorflow/python/ops/gen_array_ops.py\", line 2043, in _placeholder\n    name=name)\n  File \"/usr/local/lib/python2.7/dist-packages/tensorflow/python/framework/op_def_library.py\", line 759, in apply_op\n    op_def=op_def)\n  File \"/usr/local/lib/python2.7/dist-packages/tensorflow/python/framework/ops.py\", line 2240, in create_op\n    original_op=self._default_original_op, op_def=op_def)\n  File \"/usr/local/lib/python2.7/dist-packages/tensorflow/python/framework/ops.py\", line 1128, in __init__\n    self._traceback = _extract_stack()\n\nInvalidArgumentError (see above for traceback): You must feed a value for placeholder tensor 'Placeholder_60' with dtype complex64\n\t [[Node: Placeholder_60 = Placeholder[dtype=DT_COMPLEX64, shape=[], _device=\"/job:localhost/replica:0/task:0/gpu:0\"]()]]\n"
     ]
    }
   ],
   "source": [
    "def setParams(params):\n",
    "    # Todo\n",
    "    pass\n",
    "def cfft(tensor):\n",
    "    # Perform custom forward Fourier transform from the source placeholder in complex64\n",
    "    result = tf.fft2d(tensor)\n",
    "    return result\n",
    "    pass\n",
    "def cift(tensor):\n",
    "    # Perform custom inverse Fourier transform from the source placeholder in complex64\n",
    "    result = tf.ifft2d(tensor)\n",
    "    pass\n",
    "def bndcrop(tensor, newshape):\n",
    "    pass\n",
    "def zeropad(tensor, newshape):\n",
    "    pass\n",
    "def Pzmn(tensor):\n",
    "    # Zero mean\n",
    "    pass\n",
    "def Pnmr(tensor):\n",
    "    # Normalization\n",
    "    pass\n",
    "\n",
    "# Implementation of Convolutional Sparse Coding Layer\n",
    "class ConvSparseCodingLayer:\n",
    "    # Building a single layer of Convolutional Sparse Coding Layer\n",
    "    def __init__(self, S_init, D_init):\n",
    "        # initialize the parameters\n",
    "        self.Lambda   = 0.1\n",
    "        self.Rho      = 0.001\n",
    "        self.Sigma    = 0.001\n",
    "        self.Jxp      = 10\n",
    "        self.mu_x     = 0.01\n",
    "        self.tau_x    = 2\n",
    "        self.Jdp      = 10\n",
    "        self.mu_d     = 0.01\n",
    "        self.tau_d    = 2\n",
    "        self.alpha_x  = 1.8\n",
    "        self.alpha_d  = 1.8\n",
    "        self.Jmax     = 100\n",
    "        self.eps_abs  = 1e-6\n",
    "        self.eps_rel  = 1e-6\n",
    "        self.fixed_d  = False\n",
    "        self.fixed_x  = False\n",
    "        \n",
    "        # initialize the component size\n",
    "        self.elemSize = [  1,   1, 512, 512]\n",
    "        self.dataSize = [  6,   1, 512, 512]\n",
    "        self.dictSize = [  1,  16,  11,  11]\n",
    "        self.zpadSize = [  1,  16, 512, 512]\n",
    "        self.blobSize = [  1,  16, 512, 512]\n",
    "        \n",
    "        # initialize the component of the graph\n",
    "        # Placeholder to hold the input\n",
    "        self.S0 = tf.placeholder(shape=self.dataSize, dtype=tf.float32)\n",
    "        self.D0 = tf.placeholder(shape=self.dataSize, dtype=tf.float32)\n",
    "        \n",
    "        # Main variables\n",
    "        self.Sf = tf.Variable(tf.zeros(shape=self.dataSize, dtype=tf.complex64), name=\"Sf\")   \n",
    "        self.Di = tf.Variable(tf.zeros(shape=self.zpadSize, dtype=tf.complex64), name=\"Di\")\n",
    "        self.Df = tf.Variable(tf.zeros(shape=self.zpadSize, dtype=tf.complex64), name=\"Df\")\n",
    "        self.Xi = tf.Variable(tf.zeros(shape=self.blobSize, dtype=tf.complex64), name=\"Xi\")\n",
    "        self.Xf = tf.Variable(tf.zeros(shape=self.blobSize, dtype=tf.complex64), name=\"Xf\")\n",
    "        \n",
    "        # Splitting variables\n",
    "        self.Gi = tf.Variable(tf.zeros(shape=self.zpadSize, dtype=tf.complex64), name=\"Gi\") # Current\n",
    "        self.Gp = tf.Variable(tf.zeros(shape=self.zpadSize, dtype=tf.complex64), name=\"Gp\") # Previous\n",
    "        self.Gf = tf.Variable(tf.zeros(shape=self.zpadSize, dtype=tf.complex64), name=\"Gf\")\n",
    "        self.Yi = tf.Variable(tf.zeros(shape=self.blobSize, dtype=tf.complex64), name=\"Yi\") # Current\n",
    "        self.Yp = tf.Variable(tf.zeros(shape=self.blobSize, dtype=tf.complex64), name=\"Yp\") # Previous\n",
    "        self.Yf = tf.Variable(tf.zeros(shape=self.blobSize, dtype=tf.complex64), name=\"Yf\")\n",
    "        \n",
    "        # Dual variables\n",
    "        self.Hi = tf.Variable(tf.zeros(shape=self.zpadSize, dtype=tf.complex64), name=\"Hi\")\n",
    "        self.Hf = tf.Variable(tf.zeros(shape=self.zpadSize, dtype=tf.complex64), name=\"Hf\")\n",
    "        self.Ui = tf.Variable(tf.zeros(shape=self.blobSize, dtype=tf.complex64), name=\"Ui\")\n",
    "        self.Uf = tf.Variable(tf.zeros(shape=self.blobSize, dtype=tf.complex64), name=\"Uf\")\n",
    "        \n",
    "        pass\n",
    "\n",
    "    \n",
    "    def run(self):\n",
    "        # Launch the graph\n",
    "        with tf.Session() as sess:\n",
    "            # Initializing the variables\n",
    "            init = tf.global_variables_initializer()\n",
    "            sess.run(init)\n",
    "            \n",
    "            # Precompute\n",
    "            self.Sf = cfft(self.Si)\n",
    "            # Run the iteration\n",
    "            for j in range(1, self.Jmax):\n",
    "                pass\n",
    "        pass\n",
    "    \n",
    "    def loss(self):\n",
    "        pass\n",
    "    \n",
    "    ##################################################################################\n",
    "    def testFourierTransform(self):\n",
    "        with tf.Session() as sess:\n",
    "            # Initializing the variables\n",
    "            init = sess.run(tf.global_variables_initializer())\n",
    "            #data = tf.placeholder(tf.complex64)\n",
    "            freq = cfft(data)\n",
    "            tensor = tf.convert_to_tensor(S_processed.astype(np.complex64))\n",
    "            source = sess.run(tensor)\n",
    "            result = sess.run(freq)\n",
    "            \n",
    "        ampl = np.log(np.abs(result))\n",
    "        print ampl.shape\n",
    "        plt.figure()\n",
    "        for i in range(6):\n",
    "            plt.subplot(2,3,i+1) # Index of subplot is +1\n",
    "            plt.axis('off')\n",
    "            plt.imshow(np.squeeze(np.fft.fftshift(ampl[i,0,:,:], axes=(0,1))))\n",
    "        plt.subplots_adjust(left=None, bottom=None, right=None, top=None, wspace=0.0, hspace=0.01)\n",
    "    def testBoundaryCrop():\n",
    "        pass\n",
    "    def testZeroPadding():\n",
    "        pass\n",
    "\n",
    "\n",
    "## Debug\n",
    "# Construction\n",
    "layer = ConvSparseCodingLayer(_, S_processed)\n",
    "layer.testFourierTransform()"
   ]
  }
 ],
 "metadata": {
  "kernelspec": {
   "display_name": "Python 2",
   "language": "python",
   "name": "python2"
  },
  "language_info": {
   "codemirror_mode": {
    "name": "ipython",
    "version": 2
   },
   "file_extension": ".py",
   "mimetype": "text/x-python",
   "name": "python",
   "nbconvert_exporter": "python",
   "pygments_lexer": "ipython2",
   "version": "2.7.12"
  }
 },
 "nbformat": 4,
 "nbformat_minor": 1
}
