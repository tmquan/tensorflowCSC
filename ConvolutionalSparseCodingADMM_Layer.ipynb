{
 "cells": [
  {
   "cell_type": "code",
   "execution_count": 1,
   "metadata": {
    "collapsed": true
   },
   "outputs": [],
   "source": [
    "import tensorflow as tf\n",
    "import numpy as np\n",
    "import seaborn as sns\n",
    "import os \n",
    "import cv2 # For reading the image\n",
    "import skimage.io \n",
    "import matplotlib.pylab    as plt\n",
    "plt.rcParams['image.cmap'] = 'gray'\n",
    "%matplotlib inline  \n",
    "# This will display the image inside the notebook"
   ]
  },
  {
   "cell_type": "code",
   "execution_count": 3,
   "metadata": {
    "collapsed": true
   },
   "outputs": [],
   "source": [
    "from natsort import natsorted\n",
    "from sklearn import preprocessing # For whitening\n",
    "os.environ[\"CUDA_VISIBLE_DEVICES\"]=\"0\""
   ]
  },
  {
   "cell_type": "code",
   "execution_count": 5,
   "metadata": {
    "collapsed": true
   },
   "outputs": [],
   "source": [
    "# Size of the images\n",
    "rows = 512\n",
    "cols = 512"
   ]
  },
  {
   "cell_type": "code",
   "execution_count": 7,
   "metadata": {
    "collapsed": false
   },
   "outputs": [
    {
     "name": "stdout",
     "output_type": "stream",
     "text": [
      "./Std/barbara.grey.png\n",
      "./Std/bridge.grey.png\n",
      "./Std/kiel.grey.png\n",
      "./Std/lena.grey.png\n",
      "./Std/mandrill.png\n",
      "./Std/peppers.png\n",
      "(6, 512, 512)\n"
     ]
    }
   ],
   "source": [
    "# Read the images in Std folder and make npy data\n",
    "# Read the image directory, construct a tensor and save to npy array\n",
    "imageDir = './Std/'\n",
    "images = []\n",
    "for dirname, subdirList, fileList in os.walk(imageDir):\n",
    "    # Sort the jpg file numerically\n",
    "    fileList = natsorted(fileList)\n",
    "    for f in fileList:\n",
    "        if f.endswith('png'):\n",
    "            filename = os.path.join(dirname, f)\n",
    "            # Print the image file name and read by using opencv\n",
    "            #print f\n",
    "            print filename\n",
    "            image = cv2.imread(filename, cv2.IMREAD_GRAYSCALE)\n",
    "                \n",
    "            # Append to the images list\n",
    "            images.append(image)\n",
    "# Conver image no numpy array\n",
    "images = np.array(images)\n",
    "print images.shape\n",
    "# Reshape the image to \n",
    "images = np.reshape(images, (-1, rows, cols))\n",
    "\n",
    "# Save the images to numpy array\n",
    "np.save('std.npy', images)\n",
    "\n",
    "# Save the image to tif file\n",
    "skimage.io.imsave('std.tif', images)"
   ]
  },
  {
   "cell_type": "code",
   "execution_count": null,
   "metadata": {
    "collapsed": true
   },
   "outputs": [],
   "source": [
    "# Implementation of Convolutional Sparse Coding Layer\n",
    "class ConvSparseCodingLayer:\n",
    "    \n",
    "    def __init__(self):\n",
    "        # init method to make the graph\n",
    "        pass\n",
    "    def cfft(src_ph):\n",
    "        # Perform custom forward Fourier transform\n",
    "        pass\n",
    "    def cift(src_ph):\n",
    "        # Perform custom inverse Fourier transform\n",
    "        pass\n",
    "    def testFourierTransform():\n",
    "        pass\n",
    "    def testBoundaryCrop():\n",
    "        pass\n",
    "    def testZeroPadding():\n",
    "        pass"
   ]
  }
 ],
 "metadata": {
  "kernelspec": {
   "display_name": "Python 2",
   "language": "python",
   "name": "python2"
  },
  "language_info": {
   "codemirror_mode": {
    "name": "ipython",
    "version": 2
   },
   "file_extension": ".py",
   "mimetype": "text/x-python",
   "name": "python",
   "nbconvert_exporter": "python",
   "pygments_lexer": "ipython2",
   "version": "2.7.12"
  }
 },
 "nbformat": 4,
 "nbformat_minor": 1
}
